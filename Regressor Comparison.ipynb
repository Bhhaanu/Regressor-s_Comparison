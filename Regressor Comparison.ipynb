{
 "cells": [
  {
   "cell_type": "code",
   "execution_count": 27,
   "metadata": {},
   "outputs": [],
   "source": [
    "#==============================================================================\n",
    "# Import libraries\n",
    "#==============================================================================\n",
    "import numpy as np\n",
    "import matplotlib.pyplot as plt\n",
    "import pandas as pd\n"
   ]
  },
  {
   "cell_type": "code",
   "execution_count": 28,
   "metadata": {},
   "outputs": [],
   "source": [
    "#==============================================================================\n",
    "# import the dataset of flat prices\n",
    "#==============================================================================\n",
    "\n",
    "flatdata = pd.read_csv ('Price.csv')\n",
    "X = flatdata.iloc [:,:-1].values\n",
    "y = flatdata.iloc [:,1].values"
   ]
  },
  {
   "cell_type": "code",
   "execution_count": 29,
   "metadata": {},
   "outputs": [
    {
     "data": {
      "text/html": [
       "<div>\n",
       "<style scoped>\n",
       "    .dataframe tbody tr th:only-of-type {\n",
       "        vertical-align: middle;\n",
       "    }\n",
       "\n",
       "    .dataframe tbody tr th {\n",
       "        vertical-align: top;\n",
       "    }\n",
       "\n",
       "    .dataframe thead th {\n",
       "        text-align: right;\n",
       "    }\n",
       "</style>\n",
       "<table border=\"1\" class=\"dataframe\">\n",
       "  <thead>\n",
       "    <tr style=\"text-align: right;\">\n",
       "      <th></th>\n",
       "      <th>Area (sqft)</th>\n",
       "      <th>Price ($)</th>\n",
       "    </tr>\n",
       "  </thead>\n",
       "  <tbody>\n",
       "    <tr>\n",
       "      <th>0</th>\n",
       "      <td>2000</td>\n",
       "      <td>88600</td>\n",
       "    </tr>\n",
       "    <tr>\n",
       "      <th>1</th>\n",
       "      <td>1600</td>\n",
       "      <td>71600</td>\n",
       "    </tr>\n",
       "    <tr>\n",
       "      <th>2</th>\n",
       "      <td>1980</td>\n",
       "      <td>93300</td>\n",
       "    </tr>\n",
       "    <tr>\n",
       "      <th>3</th>\n",
       "      <td>1840</td>\n",
       "      <td>84300</td>\n",
       "    </tr>\n",
       "    <tr>\n",
       "      <th>4</th>\n",
       "      <td>1710</td>\n",
       "      <td>80600</td>\n",
       "    </tr>\n",
       "  </tbody>\n",
       "</table>\n",
       "</div>"
      ],
      "text/plain": [
       "   Area (sqft)  Price ($)\n",
       "0         2000      88600\n",
       "1         1600      71600\n",
       "2         1980      93300\n",
       "3         1840      84300\n",
       "4         1710      80600"
      ]
     },
     "execution_count": 29,
     "metadata": {},
     "output_type": "execute_result"
    }
   ],
   "source": [
    "flatdata.head()"
   ]
  },
  {
   "cell_type": "code",
   "execution_count": 30,
   "metadata": {},
   "outputs": [
    {
     "data": {
      "text/plain": [
       "(40, 2)"
      ]
     },
     "execution_count": 30,
     "metadata": {},
     "output_type": "execute_result"
    }
   ],
   "source": [
    "flatdata.shape"
   ]
  },
  {
   "cell_type": "code",
   "execution_count": 31,
   "metadata": {},
   "outputs": [],
   "source": [
    "#==============================================================================\n",
    "# split the dataset into training and test set. We will use 80/20 approach\n",
    "#==============================================================================\n",
    "\n",
    "from sklearn.model_selection import train_test_split\n",
    "X_train, X_test, y_train, y_test = train_test_split (X, y, test_size = 1/4, random_state = 0)\n",
    "\n"
   ]
  },
  {
   "cell_type": "code",
   "execution_count": 32,
   "metadata": {},
   "outputs": [
    {
     "data": {
      "text/plain": [
       "LinearRegression()"
      ]
     },
     "execution_count": 32,
     "metadata": {},
     "output_type": "execute_result"
    }
   ],
   "source": [
    "#==============================================================================\n",
    "# Fitting the Linear Regression algo to the Training set\n",
    "#==============================================================================\n",
    "\n",
    "from sklearn.linear_model import LinearRegression\n",
    "regressoragent = LinearRegression()\n",
    "regressoragent.fit (X_train, y_train)            \n"
   ]
  },
  {
   "cell_type": "code",
   "execution_count": 33,
   "metadata": {},
   "outputs": [
    {
     "data": {
      "text/plain": [
       "16531.360415393996"
      ]
     },
     "execution_count": 33,
     "metadata": {},
     "output_type": "execute_result"
    }
   ],
   "source": [
    "regressoragent.intercept_"
   ]
  },
  {
   "cell_type": "code",
   "execution_count": 34,
   "metadata": {},
   "outputs": [
    {
     "data": {
      "text/plain": [
       "array([37.71678375])"
      ]
     },
     "execution_count": 34,
     "metadata": {},
     "output_type": "execute_result"
    }
   ],
   "source": [
    "regressoragent.coef_"
   ]
  },
  {
   "cell_type": "code",
   "execution_count": 35,
   "metadata": {},
   "outputs": [
    {
     "data": {
      "text/plain": [
       "Lasso()"
      ]
     },
     "execution_count": 35,
     "metadata": {},
     "output_type": "execute_result"
    }
   ],
   "source": [
    "#==============================================================================\n",
    "# Fitting the Lasso Regression algo to the Training set\n",
    "#==============================================================================\n",
    "\n",
    "from sklearn.linear_model import Lasso\n",
    "Lasso_Reg = Lasso()\n",
    "Lasso_Reg.fit (X_train, y_train )    "
   ]
  },
  {
   "cell_type": "code",
   "execution_count": 36,
   "metadata": {},
   "outputs": [
    {
     "data": {
      "text/plain": [
       "Ridge()"
      ]
     },
     "execution_count": 36,
     "metadata": {},
     "output_type": "execute_result"
    }
   ],
   "source": [
    "#==============================================================================\n",
    "# Fitting the Ridge Regression algo to the Training set\n",
    "#==============================================================================\n",
    "\n",
    "from sklearn.linear_model import Ridge\n",
    "Ridge_Reg = Ridge()\n",
    "Ridge_Reg.fit (X_train, y_train )    "
   ]
  },
  {
   "cell_type": "code",
   "execution_count": 37,
   "metadata": {},
   "outputs": [
    {
     "data": {
      "text/plain": [
       "ElasticNet()"
      ]
     },
     "execution_count": 37,
     "metadata": {},
     "output_type": "execute_result"
    }
   ],
   "source": [
    "#==============================================================================\n",
    "# Fitting the ElasticNet Regression algo to the Training set\n",
    "#==============================================================================\n",
    "\n",
    "from sklearn.linear_model import ElasticNet\n",
    "ElasticNet_Reg = ElasticNet()\n",
    "ElasticNet_Reg.fit (X_train, y_train )    "
   ]
  },
  {
   "cell_type": "code",
   "execution_count": 38,
   "metadata": {},
   "outputs": [
    {
     "data": {
      "text/plain": [
       "DecisionTreeRegressor()"
      ]
     },
     "execution_count": 38,
     "metadata": {},
     "output_type": "execute_result"
    }
   ],
   "source": [
    "#==============================================================================\n",
    "# Fitting the Decision Tree Regression algo to the Training set\n",
    "#==============================================================================\n",
    "\n",
    "from sklearn.tree import DecisionTreeRegressor\n",
    "DT_Reg = DecisionTreeRegressor()\n",
    "DT_Reg.fit (X_train, y_train )    "
   ]
  },
  {
   "cell_type": "code",
   "execution_count": 39,
   "metadata": {},
   "outputs": [
    {
     "data": {
      "text/plain": [
       "RandomForestRegressor()"
      ]
     },
     "execution_count": 39,
     "metadata": {},
     "output_type": "execute_result"
    }
   ],
   "source": [
    "#==============================================================================\n",
    "# Fitting the Random Forest Regression algo to the Training set\n",
    "#==============================================================================\n",
    "\n",
    "from sklearn.ensemble import RandomForestRegressor\n",
    "RF_Reg = RandomForestRegressor()\n",
    "RF_Reg.fit (X_train, y_train )    "
   ]
  },
  {
   "cell_type": "code",
   "execution_count": 40,
   "metadata": {},
   "outputs": [
    {
     "data": {
      "text/plain": [
       "SVR()"
      ]
     },
     "execution_count": 40,
     "metadata": {},
     "output_type": "execute_result"
    }
   ],
   "source": [
    "#==============================================================================\n",
    "# Fitting the SVM Regression algo to the Training set\n",
    "#==============================================================================\n",
    "\n",
    "from sklearn.svm import SVR\n",
    "SV_Reg = SVR()\n",
    "SV_Reg.fit (X_train, y_train )    "
   ]
  },
  {
   "cell_type": "code",
   "execution_count": 44,
   "metadata": {},
   "outputs": [
    {
     "name": "stdout",
     "output_type": "stream",
     "text": [
      "Collecting xgboost\n",
      "  Downloading xgboost-1.7.3-py3-none-win_amd64.whl (89.1 MB)\n",
      "     --------------------------------------- 89.1/89.1 MB 13.6 MB/s eta 0:00:00\n",
      "Requirement already satisfied: scipy in c:\\users\\bhhaanu\\anaconda3\\lib\\site-packages (from xgboost) (1.7.0)\n",
      "Requirement already satisfied: numpy in c:\\users\\bhhaanu\\anaconda3\\lib\\site-packages (from xgboost) (1.21.5)\n",
      "Installing collected packages: xgboost\n",
      "Successfully installed xgboost-1.7.3\n",
      "1.7.3\n"
     ]
    }
   ],
   "source": [
    "!pip install xgboost\n",
    "# check xgboost version\n",
    "import xgboost\n",
    "print(xgboost.__version__)"
   ]
  },
  {
   "cell_type": "code",
   "execution_count": 45,
   "metadata": {},
   "outputs": [
    {
     "data": {
      "text/plain": [
       "XGBRegressor(base_score=None, booster=None, callbacks=None,\n",
       "             colsample_bylevel=None, colsample_bynode=None,\n",
       "             colsample_bytree=None, early_stopping_rounds=None,\n",
       "             enable_categorical=False, eval_metric=None, feature_types=None,\n",
       "             gamma=None, gpu_id=None, grow_policy=None, importance_type=None,\n",
       "             interaction_constraints=None, learning_rate=None, max_bin=None,\n",
       "             max_cat_threshold=None, max_cat_to_onehot=None,\n",
       "             max_delta_step=None, max_depth=None, max_leaves=None,\n",
       "             min_child_weight=None, missing=nan, monotone_constraints=None,\n",
       "             n_estimators=100, n_jobs=None, num_parallel_tree=None,\n",
       "             predictor=None, random_state=None, ...)"
      ]
     },
     "execution_count": 45,
     "metadata": {},
     "output_type": "execute_result"
    }
   ],
   "source": [
    "#==============================================================================\n",
    "# Fitting the XGBoost algo to the Training set\n",
    "#==============================================================================\n",
    "\n",
    "from xgboost import XGBRegressor\n",
    "XGBagent = XGBRegressor()\n",
    "XGBagent.fit (X_train, y_train)            \n"
   ]
  },
  {
   "cell_type": "code",
   "execution_count": 46,
   "metadata": {},
   "outputs": [],
   "source": [
    "                   \n",
    "#==============================================================================\n",
    "# Now check what our model learned by predicting the X_train values\n",
    "#==============================================================================\n",
    "\n",
    "LR_train_preds=regressoragent.predict(X_train)\n",
    "Lasso_train_preds=Lasso_Reg.predict(X_train)\n",
    "Ridge_train__preds=Ridge_Reg.predict(X_train)\n",
    "ElasticNet_train__preds=ElasticNet_Reg.predict(X_train)\n",
    "DT_train__preds=DT_Reg.predict(X_train)\n",
    "RF_train__preds=RF_Reg.predict(X_train)\n",
    "SVR_train__preds=SV_Reg.predict(X_train)\n",
    "XGBR_train__preds=XGBagent.predict(X_train)\n"
   ]
  },
  {
   "cell_type": "code",
   "execution_count": 47,
   "metadata": {},
   "outputs": [],
   "source": [
    "                   \n",
    "#==============================================================================\n",
    "# Now check what our model learned by predicting the X_test values\n",
    "#==============================================================================\n",
    "\n",
    "LR_test_preds=regressoragent.predict(X_test)\n",
    "Lasso_test_preds=Lasso_Reg.predict(X_test)\n",
    "Ridge_test__preds=Ridge_Reg.predict(X_test)\n",
    "ElasticNet_test__preds=ElasticNet_Reg.predict(X_test)\n",
    "DT_test__preds=DT_Reg.predict(X_test)\n",
    "RF_test__preds=RF_Reg.predict(X_test)\n",
    "SVR_test__preds=SV_Reg.predict(X_test)\n",
    "XGBR_test__preds=XGBagent.predict(X_test)\n",
    "\n"
   ]
  },
  {
   "cell_type": "code",
   "execution_count": 48,
   "metadata": {},
   "outputs": [],
   "source": [
    "                   \n",
    "#==============================================================================\n",
    "# Now check our model performance with training set\n",
    "#==============================================================================\n",
    "\n",
    "from sklearn.metrics import r2_score\n",
    "\n",
    "LR_train_r2=r2_score(y_train, LR_train_preds)\n",
    "Lasso_train_r2=r2_score(y_train,Lasso_train_preds)\n",
    "Ridge_train__r2=r2_score(y_train, Ridge_train__preds)\n",
    "ElasticNet_train__r2=r2_score(y_train,ElasticNet_train__preds)\n",
    "DT_train__r2=r2_score(y_train, DT_train__preds)\n",
    "RF_train__r2=r2_score(y_train, RF_train__preds)\n",
    "SVR_train__r2=r2_score(y_train, SVR_train__preds)\n",
    "XGB_train__r2=r2_score(y_train, XGBR_train__preds)\n"
   ]
  },
  {
   "cell_type": "code",
   "execution_count": 49,
   "metadata": {},
   "outputs": [
    {
     "name": "stdout",
     "output_type": "stream",
     "text": [
      "LR r2 = 0.8119696662271327\n",
      "Lasso r2 = 0.8119696662264587\n",
      "Ridge r2 = 0.8119696662260674\n",
      "ElasticNet r2 = 0.8119696659745858\n",
      "DT r2 = 0.9784345862034002\n",
      "RF r2 = 0.9441647201750683\n",
      "SVR r2 = -0.0001004242756401652\n",
      "XGB r2 = 0.9784345859262488\n"
     ]
    }
   ],
   "source": [
    "print(\"LR r2 =\", LR_train_r2)\n",
    "print(\"Lasso r2 =\", Lasso_train_r2)\n",
    "print(\"Ridge r2 =\", Ridge_train__r2)\n",
    "print(\"ElasticNet r2 =\", ElasticNet_train__r2)\n",
    "print(\"DT r2 =\", DT_train__r2)\n",
    "print(\"RF r2 =\", RF_train__r2)\n",
    "print(\"SVR r2 =\", SVR_train__r2)\n",
    "print(\"XGB r2 =\", XGB_train__r2)"
   ]
  },
  {
   "cell_type": "code",
   "execution_count": 50,
   "metadata": {},
   "outputs": [],
   "source": [
    "                 \n",
    "#==============================================================================\n",
    "# Now check our model performance with test set\n",
    "#==============================================================================\n",
    "\n",
    "LR_test_r2=r2_score(y_test, LR_test_preds)\n",
    "Lasso_test_r2=r2_score(y_test,Lasso_test_preds)\n",
    "Ridge_test__r2=r2_score(y_test, Ridge_test__preds)\n",
    "ElasticNet_test__r2=r2_score(y_test,ElasticNet_test__preds)\n",
    "DT_test__r2=r2_score(y_test, DT_test__preds)\n",
    "RF_test__r2=r2_score(y_test, RF_test__preds)\n",
    "SVR_test__r2=r2_score(y_test, SVR_test__preds)\n",
    "XGB_test__r2=r2_score(y_test, XGBR_test__preds)"
   ]
  },
  {
   "cell_type": "code",
   "execution_count": 51,
   "metadata": {},
   "outputs": [
    {
     "name": "stdout",
     "output_type": "stream",
     "text": [
      "LR test r2 = 0.5667333126436415\n",
      "Lasso test r2 = 0.5667338832983404\n",
      "Ridge test r2 = 0.5667340300844952\n",
      "ElasticNet test r2 = 0.5667443590588757\n",
      "DT test r2 = 0.3039799100728704\n",
      "RF test r2 = 0.5153046997673768\n",
      "SVR test r2 = 0.0017161716437729124\n",
      "XGB test r2 = 0.30398587607603633\n"
     ]
    }
   ],
   "source": [
    "print(\"LR test r2 =\", LR_test_r2)\n",
    "print(\"Lasso test r2 =\", Lasso_test_r2)\n",
    "print(\"Ridge test r2 =\", Ridge_test__r2)\n",
    "print(\"ElasticNet test r2 =\", ElasticNet_test__r2)\n",
    "print(\"DT test r2 =\", DT_test__r2)\n",
    "print(\"RF test r2 =\", RF_test__r2)\n",
    "print(\"SVR test r2 =\", SVR_test__r2)\n",
    "print(\"XGB test r2 =\", XGB_test__r2)\n"
   ]
  },
  {
   "cell_type": "code",
   "execution_count": 52,
   "metadata": {},
   "outputs": [
    {
     "name": "stdout",
     "output_type": "stream",
     "text": [
      "LR train r2 = 0.8119696662271327\n",
      "LR test r2 = 0.5667333126436415\n",
      "Lasso train r2 = 0.8119696662264587\n",
      "Lasso test r2 = 0.5667338832983404\n",
      "Ridge train r2 = 0.8119696662260674\n",
      "Ridge test r2 = 0.5667340300844952\n",
      "ElasticNet train r2 = 0.8119696659745858\n",
      "ElasticNet test r2 = 0.5667443590588757\n",
      "DT train r2 = 0.9784345862034002\n",
      "DT test r2 = 0.3039799100728704\n",
      "RF train r2 = 0.9441647201750683\n",
      "RF test r2 = 0.5153046997673768\n",
      "SVR train r2 = -0.0001004242756401652\n",
      "SVR test r2 = 0.0017161716437729124\n",
      "XGB train r2 = 0.9784345859262488\n",
      "XGB test r2 = 0.30398587607603633\n"
     ]
    }
   ],
   "source": [
    "print(\"LR train r2 =\", LR_train_r2)\n",
    "print(\"LR test r2 =\", LR_test_r2)\n",
    "\n",
    "print(\"Lasso train r2 =\", Lasso_train_r2)\n",
    "print(\"Lasso test r2 =\", Lasso_test_r2)\n",
    "\n",
    "print(\"Ridge train r2 =\", Ridge_train__r2)\n",
    "print(\"Ridge test r2 =\", Ridge_test__r2)\n",
    "\n",
    "print(\"ElasticNet train r2 =\", ElasticNet_train__r2)\n",
    "print(\"ElasticNet test r2 =\", ElasticNet_test__r2)\n",
    "\n",
    "print(\"DT train r2 =\", DT_train__r2)\n",
    "print(\"DT test r2 =\", DT_test__r2)\n",
    "\n",
    "print(\"RF train r2 =\", RF_train__r2)\n",
    "print(\"RF test r2 =\", RF_test__r2)\n",
    "\n",
    "print(\"SVR train r2 =\", SVR_train__r2)\n",
    "print(\"SVR test r2 =\", SVR_test__r2)\n",
    "\n",
    "print(\"XGB train r2 =\", XGB_train__r2)\n",
    "print(\"XGB test r2 =\", XGB_test__r2)"
   ]
  },
  {
   "cell_type": "code",
   "execution_count": 53,
   "metadata": {},
   "outputs": [
    {
     "data": {
      "text/plain": [
       "ElasticNet(alpha=0.9, l1_ratio=0.01)"
      ]
     },
     "execution_count": 53,
     "metadata": {},
     "output_type": "execute_result"
    }
   ],
   "source": [
    "ElasticNet_Reg_Opt = ElasticNet(alpha=0.9, l1_ratio=0.01)\n",
    "ElasticNet_Reg_Opt.fit (X_train, y_train )"
   ]
  },
  {
   "cell_type": "code",
   "execution_count": 54,
   "metadata": {},
   "outputs": [],
   "source": [
    "ElasticNet_train_preds_opt=ElasticNet_Reg_Opt.predict(X_train)\n",
    "ElasticNet_test_preds_opt=ElasticNet_Reg_Opt.predict(X_test)\n"
   ]
  },
  {
   "cell_type": "code",
   "execution_count": 55,
   "metadata": {},
   "outputs": [],
   "source": [
    "ElasticNet_train_r2_Opt = r2_score(y_train,ElasticNet_train_preds_opt)\n",
    "ElasticNet_test_r2_Opt = r2_score(y_test,ElasticNet_test_preds_opt)\n"
   ]
  },
  {
   "cell_type": "code",
   "execution_count": 56,
   "metadata": {},
   "outputs": [
    {
     "name": "stdout",
     "output_type": "stream",
     "text": [
      "ElasticNet train r2 = 0.8119696659745858\n",
      "ElasticNet test r2 = 0.5667443590588757\n"
     ]
    }
   ],
   "source": [
    "print(\"ElasticNet train r2 =\", ElasticNet_train__r2)\n",
    "print(\"ElasticNet test r2 =\", ElasticNet_test__r2)"
   ]
  },
  {
   "cell_type": "code",
   "execution_count": 57,
   "metadata": {},
   "outputs": [
    {
     "name": "stdout",
     "output_type": "stream",
     "text": [
      "ElasticNet train r2 Opt = 0.8119696654656692\n",
      "ElasticNet test r2 Opt = 0.5667524933301655\n"
     ]
    }
   ],
   "source": [
    "print(\"ElasticNet train r2 Opt =\", ElasticNet_train_r2_Opt)\n",
    "print(\"ElasticNet test r2 Opt =\", ElasticNet_test_r2_Opt)"
   ]
  },
  {
   "cell_type": "code",
   "execution_count": 58,
   "metadata": {},
   "outputs": [
    {
     "name": "stdout",
     "output_type": "stream",
     "text": [
      "ElasticNet train r2 Opt = 0.8119696654656692\n",
      "ElasticNet test r2 Opt = 0.5667524933301655\n"
     ]
    }
   ],
   "source": [
    "print(\"ElasticNet train r2 Opt =\", ElasticNet_train_r2_Opt)\n",
    "print(\"ElasticNet test r2 Opt =\", ElasticNet_test_r2_Opt)"
   ]
  },
  {
   "cell_type": "code",
   "execution_count": null,
   "metadata": {},
   "outputs": [],
   "source": []
  },
  {
   "cell_type": "code",
   "execution_count": 59,
   "metadata": {},
   "outputs": [],
   "source": [
    "dataset = [1000, 10]"
   ]
  },
  {
   "cell_type": "code",
   "execution_count": 60,
   "metadata": {},
   "outputs": [
    {
     "data": {
      "text/plain": [
       "array([37.71562873])"
      ]
     },
     "execution_count": 60,
     "metadata": {},
     "output_type": "execute_result"
    }
   ],
   "source": [
    "ElasticNet_Reg_Opt.coef_ "
   ]
  },
  {
   "cell_type": "code",
   "execution_count": 61,
   "metadata": {},
   "outputs": [
    {
     "data": {
      "text/plain": [
       "array([37.71611858])"
      ]
     },
     "execution_count": 61,
     "metadata": {},
     "output_type": "execute_result"
    }
   ],
   "source": [
    "ElasticNet_Reg.coef_"
   ]
  },
  {
   "cell_type": "code",
   "execution_count": 62,
   "metadata": {},
   "outputs": [
    {
     "data": {
      "text/plain": [
       "16533.285447380847"
      ]
     },
     "execution_count": 62,
     "metadata": {},
     "output_type": "execute_result"
    }
   ],
   "source": [
    "ElasticNet_Reg_Opt.intercept_"
   ]
  },
  {
   "cell_type": "code",
   "execution_count": 63,
   "metadata": {},
   "outputs": [
    {
     "data": {
      "text/plain": [
       "16532.469039742347"
      ]
     },
     "execution_count": 63,
     "metadata": {},
     "output_type": "execute_result"
    }
   ],
   "source": [
    "ElasticNet_Reg.intercept_"
   ]
  },
  {
   "cell_type": "code",
   "execution_count": 64,
   "metadata": {},
   "outputs": [],
   "source": [
    "from sklearn.metrics import mean_squared_error\n",
    "\n",
    "LR_test_MSE=mean_squared_error(y_test, LR_test_preds)\n",
    "Lasso_test_MSE=mean_squared_error(y_test,Lasso_test_preds)\n",
    "Ridge_test__MSE=mean_squared_error(y_test, Ridge_test__preds)\n",
    "ElasticNet_test__MSE=mean_squared_error(y_test,ElasticNet_test__preds)\n",
    "DT_test_MSE=mean_squared_error(y_test, DT_test__preds)\n",
    "RF_test_MSE=mean_squared_error(y_test, RF_test__preds)\n",
    "SVR_test_MSE=mean_squared_error(y_test, SVR_test__preds)"
   ]
  },
  {
   "cell_type": "code",
   "execution_count": 65,
   "metadata": {},
   "outputs": [
    {
     "data": {
      "text/plain": [
       "12782623.750405911"
      ]
     },
     "execution_count": 65,
     "metadata": {},
     "output_type": "execute_result"
    }
   ],
   "source": [
    "LR_test_MSE"
   ]
  },
  {
   "cell_type": "code",
   "execution_count": 66,
   "metadata": {},
   "outputs": [
    {
     "data": {
      "text/plain": [
       "DecisionTreeRegressor(min_samples_leaf=6)"
      ]
     },
     "execution_count": 66,
     "metadata": {},
     "output_type": "execute_result"
    }
   ],
   "source": [
    "DT_Reg_2 = DecisionTreeRegressor(min_samples_leaf=6)\n",
    "DT_Reg_2.fit (X_train, y_train )   "
   ]
  },
  {
   "cell_type": "code",
   "execution_count": 67,
   "metadata": {},
   "outputs": [],
   "source": [
    "DT2_train_preds=DT_Reg_2.predict(X_train)\n",
    "DT2_test_preds=DT_Reg_2.predict(X_test)\n"
   ]
  },
  {
   "cell_type": "code",
   "execution_count": 68,
   "metadata": {},
   "outputs": [],
   "source": [
    "DT2_train_r2=r2_score(y_train, DT2_train_preds)\n",
    "DT2_test_r2=r2_score(y_test, DT2_test_preds)\n"
   ]
  },
  {
   "cell_type": "code",
   "execution_count": 69,
   "metadata": {},
   "outputs": [
    {
     "name": "stdout",
     "output_type": "stream",
     "text": [
      "DT train r2 = 0.9784345862034002\n",
      "DT test r2 = 0.3039799100728704\n"
     ]
    }
   ],
   "source": [
    "print(\"DT train r2 =\", DT_train__r2)\n",
    "print(\"DT test r2 =\", DT_test__r2)"
   ]
  },
  {
   "cell_type": "code",
   "execution_count": 70,
   "metadata": {},
   "outputs": [
    {
     "name": "stdout",
     "output_type": "stream",
     "text": [
      "DT2 train r2 = 0.8069414930005423\n",
      "DT2 test r2 = 0.5031483792930338\n"
     ]
    }
   ],
   "source": [
    "print(\"DT2 train r2 =\", DT2_train_r2)\n",
    "print(\"DT2 test r2 =\", DT2_test_r2)"
   ]
  },
  {
   "cell_type": "code",
   "execution_count": 71,
   "metadata": {},
   "outputs": [
    {
     "data": {
      "text/plain": [
       "7"
      ]
     },
     "execution_count": 71,
     "metadata": {},
     "output_type": "execute_result"
    }
   ],
   "source": [
    "DT_Reg_2.tree_.node_count"
   ]
  },
  {
   "cell_type": "code",
   "execution_count": 72,
   "metadata": {},
   "outputs": [],
   "source": [
    "DT_Reg_3 = DecisionTreeRegressor()\n"
   ]
  },
  {
   "cell_type": "code",
   "execution_count": 73,
   "metadata": {},
   "outputs": [
    {
     "data": {
      "text/plain": [
       "[DecisionTreeRegressor(max_features='auto', random_state=623013555),\n",
       " DecisionTreeRegressor(max_features='auto', random_state=578264554),\n",
       " DecisionTreeRegressor(max_features='auto', random_state=2081444978),\n",
       " DecisionTreeRegressor(max_features='auto', random_state=1327591710),\n",
       " DecisionTreeRegressor(max_features='auto', random_state=319516185),\n",
       " DecisionTreeRegressor(max_features='auto', random_state=121128227),\n",
       " DecisionTreeRegressor(max_features='auto', random_state=418385531),\n",
       " DecisionTreeRegressor(max_features='auto', random_state=110965071),\n",
       " DecisionTreeRegressor(max_features='auto', random_state=497947216),\n",
       " DecisionTreeRegressor(max_features='auto', random_state=2005068659),\n",
       " DecisionTreeRegressor(max_features='auto', random_state=169703367),\n",
       " DecisionTreeRegressor(max_features='auto', random_state=1438400758),\n",
       " DecisionTreeRegressor(max_features='auto', random_state=2067097147),\n",
       " DecisionTreeRegressor(max_features='auto', random_state=1406605932),\n",
       " DecisionTreeRegressor(max_features='auto', random_state=967806964),\n",
       " DecisionTreeRegressor(max_features='auto', random_state=528595358),\n",
       " DecisionTreeRegressor(max_features='auto', random_state=402739762),\n",
       " DecisionTreeRegressor(max_features='auto', random_state=2120864668),\n",
       " DecisionTreeRegressor(max_features='auto', random_state=1846078508),\n",
       " DecisionTreeRegressor(max_features='auto', random_state=1044043109),\n",
       " DecisionTreeRegressor(max_features='auto', random_state=161939147),\n",
       " DecisionTreeRegressor(max_features='auto', random_state=960206818),\n",
       " DecisionTreeRegressor(max_features='auto', random_state=647605073),\n",
       " DecisionTreeRegressor(max_features='auto', random_state=810299466),\n",
       " DecisionTreeRegressor(max_features='auto', random_state=1893869893),\n",
       " DecisionTreeRegressor(max_features='auto', random_state=1026737991),\n",
       " DecisionTreeRegressor(max_features='auto', random_state=1402783997),\n",
       " DecisionTreeRegressor(max_features='auto', random_state=1277903649),\n",
       " DecisionTreeRegressor(max_features='auto', random_state=1047472792),\n",
       " DecisionTreeRegressor(max_features='auto', random_state=1279145259),\n",
       " DecisionTreeRegressor(max_features='auto', random_state=710964708),\n",
       " DecisionTreeRegressor(max_features='auto', random_state=1839789370),\n",
       " DecisionTreeRegressor(max_features='auto', random_state=660570876),\n",
       " DecisionTreeRegressor(max_features='auto', random_state=1176680700),\n",
       " DecisionTreeRegressor(max_features='auto', random_state=1522136453),\n",
       " DecisionTreeRegressor(max_features='auto', random_state=355000172),\n",
       " DecisionTreeRegressor(max_features='auto', random_state=1712783734),\n",
       " DecisionTreeRegressor(max_features='auto', random_state=397643135),\n",
       " DecisionTreeRegressor(max_features='auto', random_state=1287263616),\n",
       " DecisionTreeRegressor(max_features='auto', random_state=1538712727),\n",
       " DecisionTreeRegressor(max_features='auto', random_state=134856381),\n",
       " DecisionTreeRegressor(max_features='auto', random_state=2048450522),\n",
       " DecisionTreeRegressor(max_features='auto', random_state=142284532),\n",
       " DecisionTreeRegressor(max_features='auto', random_state=932838080),\n",
       " DecisionTreeRegressor(max_features='auto', random_state=907566715),\n",
       " DecisionTreeRegressor(max_features='auto', random_state=701567594),\n",
       " DecisionTreeRegressor(max_features='auto', random_state=808043022),\n",
       " DecisionTreeRegressor(max_features='auto', random_state=727208164),\n",
       " DecisionTreeRegressor(max_features='auto', random_state=480842874),\n",
       " DecisionTreeRegressor(max_features='auto', random_state=1959226613),\n",
       " DecisionTreeRegressor(max_features='auto', random_state=1949651581),\n",
       " DecisionTreeRegressor(max_features='auto', random_state=745148275),\n",
       " DecisionTreeRegressor(max_features='auto', random_state=40829487),\n",
       " DecisionTreeRegressor(max_features='auto', random_state=113522169),\n",
       " DecisionTreeRegressor(max_features='auto', random_state=1296586981),\n",
       " DecisionTreeRegressor(max_features='auto', random_state=931399095),\n",
       " DecisionTreeRegressor(max_features='auto', random_state=81763423),\n",
       " DecisionTreeRegressor(max_features='auto', random_state=579678355),\n",
       " DecisionTreeRegressor(max_features='auto', random_state=855410043),\n",
       " DecisionTreeRegressor(max_features='auto', random_state=354277233),\n",
       " DecisionTreeRegressor(max_features='auto', random_state=223474744),\n",
       " DecisionTreeRegressor(max_features='auto', random_state=215840935),\n",
       " DecisionTreeRegressor(max_features='auto', random_state=181027301),\n",
       " DecisionTreeRegressor(max_features='auto', random_state=785690364),\n",
       " DecisionTreeRegressor(max_features='auto', random_state=1855035862),\n",
       " DecisionTreeRegressor(max_features='auto', random_state=831495946),\n",
       " DecisionTreeRegressor(max_features='auto', random_state=400077027),\n",
       " DecisionTreeRegressor(max_features='auto', random_state=546089531),\n",
       " DecisionTreeRegressor(max_features='auto', random_state=1760617691),\n",
       " DecisionTreeRegressor(max_features='auto', random_state=1002253209),\n",
       " DecisionTreeRegressor(max_features='auto', random_state=637389354),\n",
       " DecisionTreeRegressor(max_features='auto', random_state=815786450),\n",
       " DecisionTreeRegressor(max_features='auto', random_state=632090978),\n",
       " DecisionTreeRegressor(max_features='auto', random_state=512566825),\n",
       " DecisionTreeRegressor(max_features='auto', random_state=598126272),\n",
       " DecisionTreeRegressor(max_features='auto', random_state=638785848),\n",
       " DecisionTreeRegressor(max_features='auto', random_state=780132695),\n",
       " DecisionTreeRegressor(max_features='auto', random_state=179084318),\n",
       " DecisionTreeRegressor(max_features='auto', random_state=1636456179),\n",
       " DecisionTreeRegressor(max_features='auto', random_state=864303795),\n",
       " DecisionTreeRegressor(max_features='auto', random_state=406652548),\n",
       " DecisionTreeRegressor(max_features='auto', random_state=221530047),\n",
       " DecisionTreeRegressor(max_features='auto', random_state=1421602273),\n",
       " DecisionTreeRegressor(max_features='auto', random_state=675789314),\n",
       " DecisionTreeRegressor(max_features='auto', random_state=623980396),\n",
       " DecisionTreeRegressor(max_features='auto', random_state=24651489),\n",
       " DecisionTreeRegressor(max_features='auto', random_state=1896960778),\n",
       " DecisionTreeRegressor(max_features='auto', random_state=1848284251),\n",
       " DecisionTreeRegressor(max_features='auto', random_state=2120599987),\n",
       " DecisionTreeRegressor(max_features='auto', random_state=643492809),\n",
       " DecisionTreeRegressor(max_features='auto', random_state=554005722),\n",
       " DecisionTreeRegressor(max_features='auto', random_state=809934979),\n",
       " DecisionTreeRegressor(max_features='auto', random_state=1395098740),\n",
       " DecisionTreeRegressor(max_features='auto', random_state=981257613),\n",
       " DecisionTreeRegressor(max_features='auto', random_state=440283190),\n",
       " DecisionTreeRegressor(max_features='auto', random_state=222084393),\n",
       " DecisionTreeRegressor(max_features='auto', random_state=774153071),\n",
       " DecisionTreeRegressor(max_features='auto', random_state=1673820211),\n",
       " DecisionTreeRegressor(max_features='auto', random_state=989318165),\n",
       " DecisionTreeRegressor(max_features='auto', random_state=263392403)]"
      ]
     },
     "execution_count": 73,
     "metadata": {},
     "output_type": "execute_result"
    }
   ],
   "source": [
    "RF_Reg.estimators_"
   ]
  },
  {
   "cell_type": "code",
   "execution_count": 74,
   "metadata": {},
   "outputs": [
    {
     "data": {
      "text/plain": [
       "XGBRegressor(base_score=None, booster=None, callbacks=None,\n",
       "             colsample_bylevel=None, colsample_bynode=None,\n",
       "             colsample_bytree=None, early_stopping_rounds=None,\n",
       "             enable_categorical=False, eval_metric=None, feature_types=None,\n",
       "             gamma=None, gpu_id=None, grow_policy=None, importance_type=None,\n",
       "             interaction_constraints=None, learning_rate=None, max_bin=None,\n",
       "             max_cat_threshold=None, max_cat_to_onehot=None,\n",
       "             max_delta_step=None, max_depth=2, max_leaves=None,\n",
       "             min_child_weight=None, missing=nan, monotone_constraints=None,\n",
       "             n_estimators=100, n_jobs=None, num_parallel_tree=None,\n",
       "             predictor=None, random_state=None, ...)"
      ]
     },
     "execution_count": 74,
     "metadata": {},
     "output_type": "execute_result"
    }
   ],
   "source": [
    "XGBagent2 = XGBRegressor(max_depth=2)\n",
    "XGBagent2.fit (X_train, y_train)"
   ]
  },
  {
   "cell_type": "code",
   "execution_count": 75,
   "metadata": {},
   "outputs": [],
   "source": [
    "XGBR2_test__preds=XGBagent2.predict(X_test)\n"
   ]
  },
  {
   "cell_type": "code",
   "execution_count": 76,
   "metadata": {},
   "outputs": [],
   "source": [
    "XGB2_test__r2=r2_score(y_test, XGBR2_test__preds)\n"
   ]
  },
  {
   "cell_type": "code",
   "execution_count": 77,
   "metadata": {},
   "outputs": [
    {
     "data": {
      "text/plain": [
       "0.32795408755786015"
      ]
     },
     "execution_count": 77,
     "metadata": {},
     "output_type": "execute_result"
    }
   ],
   "source": [
    "XGB2_test__r2"
   ]
  },
  {
   "cell_type": "code",
   "execution_count": null,
   "metadata": {},
   "outputs": [],
   "source": []
  },
  {
   "cell_type": "code",
   "execution_count": null,
   "metadata": {},
   "outputs": [],
   "source": []
  }
 ],
 "metadata": {
  "kernelspec": {
   "display_name": "Python 3 (ipykernel)",
   "language": "python",
   "name": "python3"
  },
  "language_info": {
   "codemirror_mode": {
    "name": "ipython",
    "version": 3
   },
   "file_extension": ".py",
   "mimetype": "text/x-python",
   "name": "python",
   "nbconvert_exporter": "python",
   "pygments_lexer": "ipython3",
   "version": "3.9.13"
  }
 },
 "nbformat": 4,
 "nbformat_minor": 2
}
